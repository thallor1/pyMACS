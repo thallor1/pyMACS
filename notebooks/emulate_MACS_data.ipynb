{
 "cells": [
  {
   "cell_type": "markdown",
   "id": "3b0549ea-8bf1-40cc-844a-06e1e3677130",
   "metadata": {
    "editable": true,
    "slideshow": {
     "slide_type": ""
    },
    "tags": []
   },
   "source": [
    "## Emulate a MACS ng0 file\n",
    "\n",
    "An important use case of pyMACS is to reproduce experimental data. One of the key features of the package is the ability to automatically import .ng0 files, and simulate them. Of course, the user is still required to define the sample scattering and geometry definitions. "
   ]
  },
  {
   "cell_type": "code",
   "execution_count": 1,
   "id": "ffb9e363-f024-4e91-84ff-4cc0011d7aec",
   "metadata": {
    "editable": true,
    "slideshow": {
     "slide_type": ""
    },
    "tags": []
   },
   "outputs": [],
   "source": [
    "import pyMACS\n",
    "from pyMACS.virtualMACS import VirtualMACS\n",
    "import matplotlib.pyplot as plt\n",
    "import mcstasscript as ms\n",
    "import numpy as np"
   ]
  },
  {
   "cell_type": "code",
   "execution_count": 5,
   "id": "dade5930-e44f-4207-8d92-476388225679",
   "metadata": {},
   "outputs": [
    {
     "name": "stdout",
     "output_type": "stream",
     "text": [
      "WARNING: Overwriting previous total file test_total.csv\n",
      "#########################\n",
      "Old simulations found in /mnt/c/Users/tjh/OneDrive - NIST/GitHub/pyMACS/docs/source/notebooks/test/Kidney_simulations/\n",
      " \n",
      "Successfully combined old simulations into /mnt/c/Users/tjh/OneDrive - NIST/GitHub/pyMACS/docs/source/notebooks/test/Kidney_simulations/test_total.csv\n",
      "\n",
      "Data matrix instantiated and ready to use.\n",
      "#########################\n",
      "Sample Lattice vectors\n",
      "\n",
      "a=4.6001\n",
      "alpha=90.0\n",
      "b=4.6001\n",
      "beta=90.0\n",
      "c=2.9288\n",
      "gamma=90.0\n",
      "\n",
      "Sample orientation U\n",
      "[1, 0, 0]\n",
      "Sample orientation v\n",
      "[0, 0, 1]\n",
      "\n",
      "Real Space projection of lattice vectors [ax,ay,az; bx,by,bz;cx,cy,cz]\n",
      "[[ 3.25276 -3.25276  0.     ]\n",
      " [ 3.25276  3.25276  0.     ]\n",
      " [ 0.       0.       2.9288 ]]\n",
      "\n",
      "Structure factors:\n",
      "|F(110)|^2 = 0.1782 barn\n",
      "|F(100)|^2 = 0.0 barn\n",
      "|F(1-10)|^2 = 0.1782 barn\n",
      "|F(001)|^2 = 0.0 barn\n"
     ]
    }
   ],
   "source": [
    "macs = VirtualMACS(exptName='test',cifName=\"TiO2.cif\",useOld=False)\n",
    "\n",
    "# define sample parameters\n",
    "\n",
    "macs.sample.sample_shape='box'\n",
    "macs.sample.sample_widx=4.3e-3 \n",
    "macs.sample.sample_widy=1.3e-3\n",
    "macs.sample.sample_widz=3.3e-3 \n",
    "\n",
    "print('Sample Lattice vectors')\n",
    "print('')\n",
    "print('a='+str(macs.sample.a))\n",
    "print('alpha='+str(macs.sample.alpha))\n",
    "print('b='+str(macs.sample.b))\n",
    "print('beta='+str(macs.sample.beta))\n",
    "print('c='+str(macs.sample.c))\n",
    "print('gamma='+str(macs.sample.gamma))\n",
    "print('')\n",
    "print('Sample orientation U')\n",
    "print(macs.sample.orient_u)\n",
    "macs.sample.orient_u=[1,1,0]\n",
    "macs.sample.orient_v=[0,0,1]\n",
    "print('Sample orientation v')\n",
    "print(macs.sample.orient_v)\n",
    "print('')\n",
    "macs.sample.project_sample_realspace()\n",
    "print('Real Space projection of lattice vectors [ax,ay,az; bx,by,bz;cx,cy,cz]')\n",
    "print(macs.sample.labframe_mat)\n",
    "print('')\n",
    "print('Structure factors:')\n",
    "print('|F(110)|^2 = '+str(round(macs.sample.fetch_F_HKL(1,1,0)[3],4))+' barn')\n",
    "print('|F(100)|^2 = '+str(round(macs.sample.fetch_F_HKL(1,0,0)[3],4))+' barn')\n",
    "print('|F(1-10)|^2 = '+str(round(macs.sample.fetch_F_HKL(1,-1,0)[3],4))+' barn')\n",
    "print('|F(001)|^2 = '+str(round(macs.sample.fetch_F_HKL(0,0,1)[3],4))+' barn')\n",
    "\n",
    "# Define the scattering, geometry definitions\n",
    "\n",
    "scattering_def = ms.McStas_instr(\"scattering_definition\",checks=False)\n",
    "inc_scatter = scattering_def.add_component(\"inc_scatter\",\"Incoherent_process\")\n",
    "inc_scatter.sigma=macs.sample.sigma_inc\n",
    "inc_scatter.unit_cell_volume = macs.sample.cell_vol\n",
    "inc_scatter.packing_factor = 1\n",
    "inc_scatter.set_AT([0,0,0])\n",
    "\n",
    "#Single crystal process. \n",
    "crystal_scatter = scattering_def.add_component(\"crystal_scatter\",\"Single_crystal_process\")\n",
    "crystal_scatter.delta_d_d=0.005\n",
    "crystal_scatter.mosaic = 30.0\n",
    "#Projections of lattice vectors onto lab frame is handled by the previous helper process.\n",
    "labproj = macs.sample.labframe_mat\n",
    "crystal_scatter.ax = labproj[0,0]\n",
    "crystal_scatter.ay = labproj[0,1]\n",
    "crystal_scatter.az = labproj[0,2]\n",
    "crystal_scatter.bx = labproj[1,0]\n",
    "crystal_scatter.by = labproj[1,1]\n",
    "crystal_scatter.bz = labproj[1,2]\n",
    "crystal_scatter.cx = labproj[2,0]\n",
    "crystal_scatter.cy = labproj[2,1]\n",
    "crystal_scatter.cz = labproj[2,2]\n",
    "crystal_scatter.reflections='\\\"'+\"TiO2.lau\"+'\\\"'\n",
    "crystal_scatter.barns=1\n",
    "crystal_scatter.packing_factor=1\n",
    "crystal_scatter.powder=0\n",
    "crystal_scatter.PG=0\n",
    "crystal_scatter.interact_fraction=0.8\n",
    "crystal_scatter.set_AT([0,0,0])\n",
    "crystal_scatter.set_ROTATED([0,0,0])\n",
    "\n",
    "scattering = scattering_def.add_component(\"TiO2\",\"Union_make_material\")\n",
    "scattering.process_string='\"crystal_scatter,inc_scatter\"'\n",
    "scattering.my_absorption=macs.sample.rho_abs\n",
    "scattering.set_AT([0,0,0])\n",
    "\n",
    "#Now, this pseudo-instrument will be saved as the scattering definition of the sample. \n",
    "macs.sample.scattering_def = scattering_def\n",
    "\n",
    "#Make a second object for the geometry. This particular case replicates the validation experiment for this package.\n",
    "geo_def = ms.McStas_instr(\"geometry_definition\",checks=False)\n",
    "\n",
    "sample_cube=geo_def.add_component(\"sample_cube\",\"Union_box\")\n",
    "sample_cube.xwidth=1.0*macs.sample.sample_widx\n",
    "sample_cube.yheight=1.0*macs.sample.sample_widy\n",
    "sample_cube.zdepth=1.0*macs.sample.sample_widz\n",
    "sample_cube.priority=100\n",
    "sample_cube.material_string='\\\"TiO2\\\"'\n",
    "sample_cube.number_of_activations=\"number_of_activations_sample\" #Do not change. \n",
    "sample_cube.set_AT([0,0,0],RELATIVE='crystal_assembly')\n",
    "sample_cube.set_ROTATED([0,0,0],RELATIVE='crystal_assembly')\n",
    "\n",
    "\n",
    "sample_plate = geo_def.add_component(\"sample_plate\",\"Union_cylinder\")\n",
    "sample_plate.radius=0.006\n",
    "sample_plate.yheight=0.002\n",
    "sample_plate.priority=40\n",
    "sample_plate.material_string='\"Al\"'\n",
    "plate_distance = macs.sample.sample_widy+0.002\n",
    "sample_plate.set_AT([0,plate_distance,0],RELATIVE=\"target\")\n",
    "sample_plate.set_ROTATED([0,0,0],RELATIVE=\"target\")\n",
    "\n",
    "sample_plate_rod = geo_def.add_component(\"sample_plate_rod\",\"Union_cylinder\")\n",
    "sample_plate_rod.radius=0.00125\n",
    "sample_plate_rod.yheight=0.0633\n",
    "sample_plate_rod.priority=41\n",
    "sample_plate_rod.material_string='\"Al\"'\n",
    "sample_plate_rod.set_AT([0,plate_distance+0.001+0.031,0], RELATIVE=\"target\")\n",
    "sample_plate_rod.set_ROTATED([0,0,0],RELATIVE=\"target\")\n",
    "\n",
    "sample_base = geo_def.add_component(\"sample_base\",\"Union_cylinder\")\n",
    "sample_base.radius=0.0065\n",
    "sample_base.yheight=0.013\n",
    "sample_base.priority=42\n",
    "sample_base.material_string='\\\"Al\\\"'\n",
    "sample_base.set_AT([0,0.0628,0],RELATIVE=\"target\")\n",
    "sample_base.set_ROTATED([0,0,0],RELATIVE=\"target\")\n",
    "\n",
    "sample_base_gap = geo_def.add_component(\"sample_base_gap\",\"Union_cylinder\")\n",
    "sample_base_gap.radius=0.004\n",
    "sample_base_gap.yheight=0.009\n",
    "sample_base_gap.priority=43\n",
    "sample_base_gap.material_string='\"Vacuum\"'\n",
    "sample_base_gap.set_AT([0,0.0668,0], RELATIVE=\"target\")\n",
    "sample_base_gap.set_ROTATED([0,0,0],RELATIVE=\"target\")\n",
    "\n",
    "macs.sample.geometry_def = geo_def"
   ]
  },
  {
   "cell_type": "code",
   "execution_count": 6,
   "id": "03c638d1-dd69-4398-9852-2a84bfe81190",
   "metadata": {},
   "outputs": [
    {
     "name": "stdout",
     "output_type": "stream",
     "text": [
      " \n",
      "Conversion of CIF to crystallographical LAU file successful. \n",
      "WARNING: Old instrument directory found. Older files deleted, instrument will need to be recompiled.\n",
      "/mnt/c/Users/tjh/OneDrive - NIST/GitHub/pyMACS/docs/source/notebooks\n",
      "#################\n",
      "\n",
      "Starting compilation of monochromator.\n",
      "\n",
      "Compilation of monochromator geometry successful.\n",
      "\n",
      "#################\n",
      "\n",
      "#################\n",
      "\n",
      "Starting compilation of sample kidney geometry.\n",
      "\n",
      "Compilation of sample kidney geometry successful.\n",
      "\n",
      "#################\n",
      "\n"
     ]
    }
   ],
   "source": [
    "# It is usually a good idea to leave this flag as True, however if you want to \n",
    "# start from scratch it can be a good idea to make it False. \n",
    "macs.useOld=False\n",
    "\n",
    "if macs.useOld==True:\n",
    "    macs.useOld=True\n",
    "else:\n",
    "    macs.data.data_matrix=False\n",
    "    # prepare_expt_directory populates the a folder in the base directory with all necessary files\n",
    "    # to perform the simulation.\n",
    "    macs.prepare_expt_directory()\n",
    "    #The below command write the McStas .instr file for the full MACS simulation based on the \n",
    "    # user-provided definitions above\n",
    "    macs.edit_instr_file()\n",
    "    macs.compileMonochromator()\n",
    "    macs.compileInstr()"
   ]
  },
  {
   "cell_type": "markdown",
   "id": "1d9e6421-d672-4f40-8ac5-536fd25d4834",
   "metadata": {},
   "source": [
    "The actual emulation begins here. There are two modes, one simulates individual ng0 files the other simulates a directory.\n",
    "\n",
    "If an ng0 file is emulated, it is automatically saved as both a csv and a .ng0 file."
   ]
  },
  {
   "cell_type": "code",
   "execution_count": 7,
   "id": "931acb66-1254-46ad-b79a-9ea35c8006dc",
   "metadata": {},
   "outputs": [
    {
     "name": "stdout",
     "output_type": "stream",
     "text": [
      "Emulating scan from fpx78891.ng0\n"
     ]
    },
    {
     "data": {
      "text/plain": [
       "1"
      ]
     },
     "execution_count": 7,
     "metadata": {},
     "output_type": "execute_result"
    }
   ],
   "source": [
    "macs.data.data_matrix=False \n",
    "sample_ng0 = 'fpx78891.ng0'\n",
    "macs.n_mono=1e6\n",
    "macs.n_sample=1e5\n",
    "macs.simulate_ng0(sample_ng0,n_threads=8)\n",
    "# To scan through a directory, use a format like below\n",
    "\n",
    "ngo_dir = 'Example_ng0_files/'\n",
    "#macs.simulate_ng0dir(ngo_dir,n_threads=12) "
   ]
  },
  {
   "cell_type": "markdown",
   "id": "3654e6ad-bef5-4038-a8b2-4e802db756ae",
   "metadata": {},
   "source": [
    "Plot this scan to see how it looks"
   ]
  },
  {
   "cell_type": "code",
   "execution_count": 9,
   "id": "4e81cabb-a313-4313-ae09-0281aa244a76",
   "metadata": {},
   "outputs": [
    {
     "data": {
      "text/plain": [
       "Text(0.5, 1.0, 'TiO2 A3 Scan, Elastic')"
      ]
     },
     "execution_count": 9,
     "metadata": {},
     "output_type": "execute_result"
    },
    {
     "data": {
      "image/png": "[encoded data removed]",
      "text/plain": [
       "<Figure size 640x480 with 1 Axes>"
      ]
     },
     "metadata": {},
     "output_type": "display_data"
    }
   ],
   "source": [
    "# The data must be converted from detector numbers and angles to the sample frame. \n",
    "macs.data.project_data_QE()\n",
    "U,V,I = macs.data.bin_constE_slice(120,120,[-2,2],[-2,2],[-1,1])\n",
    "\n",
    "plt.figure()\n",
    "plt.pcolormesh(U,V,I.T,vmin=0,vmax=20)\n",
    "plt.xlabel('[HH0]')\n",
    "plt.ylabel('[00L]')\n",
    "plt.title(\"TiO2 A3 Scan, Elastic\")"
   ]
  },
  {
   "cell_type": "markdown",
   "id": "de8e785e-c965-4223-822a-973e9ba54619",
   "metadata": {},
   "source": [
    "At any point the files in the kidney scan folder can be converted into MSlice readable ng0 files. \n",
    "\n",
    "The files may be divided into individual Ei values or combined into a single larger one. If they originate from ng0 files, they may also be individual ng0 files corresponding to their origin files"
   ]
  },
  {
   "cell_type": "code",
   "execution_count": 24,
   "id": "26bd9876-f390-4a78-99a8-d976e53d85de",
   "metadata": {
    "scrolled": true
   },
   "outputs": [
    {
     "data": {
      "text/plain": [
       "1"
      ]
     },
     "execution_count": 24,
     "metadata": {},
     "output_type": "execute_result"
    }
   ],
   "source": [
    "#Here we combine any scans that exist individually and append them to the data holder class\n",
    "macs.data.combine_all_csv()\n",
    "macs.data.load_data_matrix_from_csv('_total.csv')"
   ]
  },
  {
   "cell_type": "code",
   "execution_count": 25,
   "id": "4f17fb94-6681-4c6a-a6e6-ffde008d84e0",
   "metadata": {
    "scrolled": true
   },
   "outputs": [
    {
     "data": {
      "text/plain": [
       "1"
      ]
     },
     "execution_count": 25,
     "metadata": {},
     "output_type": "execute_result"
    }
   ],
   "source": [
    "#The data is now written to a MACS style file for comparison in MSlice.\n",
    "macs.data.write_data_to_ng0(filename='_cube_TiO2_demonstration_scan.ng0',beta_1=macs.monochromator.beta_1,\\\n",
    "                               beta_2=macs.monochromator.beta_2)"
   ]
  }
 ],
 "metadata": {
  "kernelspec": {
   "display_name": "Python 3 (ipykernel)",
   "language": "python",
   "name": "python3"
  },
  "language_info": {
   "codemirror_mode": {
    "name": "ipython",
    "version": 3
   },
   "file_extension": ".py",
   "mimetype": "text/x-python",
   "name": "python",
   "nbconvert_exporter": "python",
   "pygments_lexer": "ipython3",
   "version": "3.10.14"
  }
 },
 "nbformat": 4,
 "nbformat_minor": 5
}
